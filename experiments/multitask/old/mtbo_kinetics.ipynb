{
 "cells": [
  {
   "cell_type": "code",
   "execution_count": 1,
   "metadata": {},
   "outputs": [],
   "source": [
    "%load_ext autoreload\n",
    "%autoreload 2"
   ]
  },
  {
   "cell_type": "markdown",
   "metadata": {},
   "source": [
    "# MTBO Kinetics Study"
   ]
  },
  {
   "cell_type": "code",
   "execution_count": 2,
   "metadata": {},
   "outputs": [],
   "source": [
    "from summit.strategies import STBO, MTBO, Transform, LHS, Chimera\n",
    "from summit.benchmarks import MIT_case1, MIT_case2\n",
    "from summit.utils.dataset import DataSet\n",
    "from summit.domain import *\n",
    "import summit\n",
    "import pathlib\n",
    "import pandas as pd\n",
    "import numpy as np\n",
    "import matplotlib.pyplot as plt\n",
    "from typing import List\n",
    "from IPython.display import clear_output"
   ]
  },
  {
   "cell_type": "markdown",
   "metadata": {},
   "source": [
    "## Pretraining Data"
   ]
  },
  {
   "cell_type": "code",
   "execution_count": 3,
   "metadata": {},
   "outputs": [
    {
     "data": {
      "text/html": [
       "<table id='domain' width=100%><tr><td><b>Name</b></td><td><b>Type</b></td><td><b>Description</b></td><td><b>Values</b></td></tr><tr><td>conc_cat</td><td>continuous, input</td><td>catalyst concentration</td><td>[0.000835,0.004175]</td></tr><tr><td>t</td><td>continuous, input</td><td>reaction time</td><td>[60,600]</td></tr><tr><td>cat_index</td><td>categorical, input</td><td>Choice of catalyst</td><td>8 levels</td></tr><tr><td>temperature</td><td>continuous, input</td><td>Reactor temperature in degress celsius</td><td>[30,110]</td></tr><tr><td>y</td><td>continuous, maximize objective</td><td>yield (%)</td><td>[0,100]</td></tr></table>"
      ],
      "text/plain": [
       "<summit.domain.Domain at 0x10343e128>"
      ]
     },
     "execution_count": 3,
     "metadata": {},
     "output_type": "execute_result"
    }
   ],
   "source": [
    "exp_pt = MIT_case1(noise_level=1)\n",
    "exp_pt.domain"
   ]
  },
  {
   "cell_type": "code",
   "execution_count": 4,
   "metadata": {},
   "outputs": [],
   "source": [
    "exp_pt.reset()\n",
    "lhs = LHS(exp_pt.domain)\n",
    "conditions = lhs.suggest_experiments(20)\n",
    "exp_pt.run_experiments(conditions)\n",
    "pt_data = exp_pt.data\n",
    "pt_data['task', 'METADATA'] = 0"
   ]
  },
  {
   "cell_type": "code",
   "execution_count": 5,
   "metadata": {},
   "outputs": [],
   "source": [
    "def make_average_plot(results: List[summit.Runner], ax, label=None, color=None):\n",
    "    yields = [r.experiment.data['y'] for r in results]\n",
    "    yields = np.array(yields)\n",
    "    mean_yield = np.mean(yields, axis=0)\n",
    "    std_yield = np.std(yields, axis=0)\n",
    "    x = np.arange(0, len(mean_yield), 1).astype(int)\n",
    "    ax.plot(x, mean_yield, label=label)\n",
    "    ax.fill_between(x, mean_yield-std_yield, mean_yield+std_yield, alpha=0.1)\n",
    "\n",
    "def make_comparison_plot(stbo_results, mtbo_results):\n",
    "    fig, ax = plt.subplots(1)\n",
    "    make_average_plot(stbo_results, ax, label=\"STBO\", color='r')\n",
    "    make_average_plot(mtbo_results, ax, label=\"MTBO\", color='b')\n",
    "    ax.legend(loc = \"lower right\")\n",
    "    ax.set_xlim(0,20)\n",
    "    ax.set_xticks(np.arange(0, 20, 2).astype(int))\n",
    "    ax.set_ylabel('Yield')\n",
    "    ax.set_xlabel('Reactions')\n",
    "    ax.tick_params(direction='in')\n",
    "    return fig, ax"
   ]
  },
  {
   "cell_type": "markdown",
   "metadata": {},
   "source": [
    "## Optimization Case 1-2"
   ]
  },
  {
   "cell_type": "code",
   "execution_count": 6,
   "metadata": {},
   "outputs": [],
   "source": [
    "N_REPEATS = 10\n",
    "MAX_ITERATIONS = 20"
   ]
  },
  {
   "cell_type": "markdown",
   "metadata": {},
   "source": [
    "### Single Task Optimization"
   ]
  },
  {
   "cell_type": "code",
   "execution_count": 7,
   "metadata": {},
   "outputs": [],
   "source": [
    "def run_stbo(max_iterations=10, categorical_method=\"one-hot\"):\n",
    "    exp = MIT_case2(noise_level=1)\n",
    "    exp.reset()\n",
    "    strategy = STBO(exp.domain, \n",
    "                    categorical_method=categorical_method)\n",
    "    r = summit.Runner(strategy=strategy, \n",
    "                      experiment=exp, \n",
    "                      max_iterations=max_iterations)\n",
    "    r.run()\n",
    "    return r"
   ]
  },
  {
   "cell_type": "code",
   "execution_count": 8,
   "metadata": {},
   "outputs": [
    {
     "name": "stdout",
     "output_type": "stream",
     "text": [
      "Repeat 9\n"
     ]
    },
    {
     "data": {
      "text/html": [
       "\n",
       "    <div>\n",
       "        <style>\n",
       "            /* Turns off some styling */\n",
       "            progress {\n",
       "                /* gets rid of default border in Firefox and Opera. */\n",
       "                border: none;\n",
       "                /* Needs to be in here for Safari polyfill so background images work as expected. */\n",
       "                background-size: auto;\n",
       "            }\n",
       "            .progress-bar-interrupted, .progress-bar-interrupted::-webkit-progress-bar {\n",
       "                background: #F44336;\n",
       "            }\n",
       "        </style>\n",
       "      <progress value='20' class='' max='20' style='width:300px; height:20px; vertical-align: middle;'></progress>\n",
       "      100.00% [20/20 00:16<00:00]\n",
       "    </div>\n",
       "    "
      ],
      "text/plain": [
       "<IPython.core.display.HTML object>"
      ]
     },
     "metadata": {},
     "output_type": "display_data"
    }
   ],
   "source": [
    "for i in range(N_REPEATS):\n",
    "    print(f\"Repeat {i}\")\n",
    "    result = run_stbo(MAX_ITERATIONS)\n",
    "    result.save(f\"data/stbo_kinetics_case1-2_noise_repeat_{i}.json\")\n",
    "    clear_output(wait=True)"
   ]
  },
  {
   "cell_type": "markdown",
   "metadata": {},
   "source": [
    "### Multitask Optimization"
   ]
  },
  {
   "cell_type": "code",
   "execution_count": 9,
   "metadata": {},
   "outputs": [],
   "source": [
    "def run_mtbo(max_iterations=10):\n",
    "    exp = MIT_case2(noise_level=1)\n",
    "    strategy = MTBO(exp.domain, \n",
    "                    pretraining_data=pt_data,\n",
    "                    categorical_method=\"one-hot\", \n",
    "                    task=1)\n",
    "    r = summit.Runner(strategy=strategy,\n",
    "                      experiment=exp, \n",
    "                      max_iterations=max_iterations)\n",
    "    r.run()\n",
    "    return r"
   ]
  },
  {
   "cell_type": "code",
   "execution_count": 10,
   "metadata": {},
   "outputs": [
    {
     "name": "stdout",
     "output_type": "stream",
     "text": [
      "Repeat 9\n"
     ]
    },
    {
     "data": {
      "text/html": [
       "\n",
       "    <div>\n",
       "        <style>\n",
       "            /* Turns off some styling */\n",
       "            progress {\n",
       "                /* gets rid of default border in Firefox and Opera. */\n",
       "                border: none;\n",
       "                /* Needs to be in here for Safari polyfill so background images work as expected. */\n",
       "                background-size: auto;\n",
       "            }\n",
       "            .progress-bar-interrupted, .progress-bar-interrupted::-webkit-progress-bar {\n",
       "                background: #F44336;\n",
       "            }\n",
       "        </style>\n",
       "      <progress value='20' class='' max='20' style='width:300px; height:20px; vertical-align: middle;'></progress>\n",
       "      100.00% [20/20 00:40<00:00]\n",
       "    </div>\n",
       "    "
      ],
      "text/plain": [
       "<IPython.core.display.HTML object>"
      ]
     },
     "metadata": {},
     "output_type": "display_data"
    }
   ],
   "source": [
    "for i in range(N_REPEATS):\n",
    "    print(f\"Repeat {i}\")\n",
    "    result = run_mtbo(MAX_ITERATIONS)\n",
    "    result.save(f\"data/mtbo_kinetics_case1-2_noise_repeat_{i}.json\")\n",
    "    clear_output(wait=True)"
   ]
  },
  {
   "cell_type": "markdown",
   "metadata": {},
   "source": [
    "### Visualization\n",
    "\n",
    "Without noise"
   ]
  },
  {
   "cell_type": "code",
   "execution_count": 7,
   "metadata": {},
   "outputs": [
    {
     "data": {
      "image/png": "[encoded data removed]",
      "text/plain": [
       "<Figure size 432x288 with 1 Axes>"
      ]
     },
     "metadata": {
      "needs_background": "light"
     },
     "output_type": "display_data"
    }
   ],
   "source": [
    "stbo_results = [summit.Runner.load(f\"data/stbo_kinetics_repeat_{i}.json\") for i in range(10)]\n",
    "mtbo_results = [summit.Runner.load(f\"data/mtbo_kinetics_repeat_{i}.json\") for i in range(10)]\n",
    "def make_average_plot(results: List[summit.Runner], ax, label=None, color=None):\n",
    "    yields = [r.experiment.data['y'] for r in results]\n",
    "    yields = np.array(yields)\n",
    "    mean_yield = np.mean(yields, axis=0)\n",
    "    std_yield = np.std(yields, axis=0)\n",
    "    x = np.arange(0, len(mean_yield), 1).astype(int)\n",
    "    ax.plot(x, mean_yield, label=label)\n",
    "    ax.fill_between(x, mean_yield-std_yield, mean_yield+std_yield, alpha=0.1)\n",
    "#     ax.errorbar(x,mean_yield, std_yield, \n",
    "#                 label=label, marker='o', capsize=5, c=color, alpha=0)\n",
    "    \n",
    "fig, ax = plt.subplots(1)\n",
    "make_average_plot(stbo_results, ax, label=\"STBO\", color='r')\n",
    "make_average_plot(mtbo_results, ax, label=\"MTBO\", color='b')\n",
    "ax.legend(loc = \"lower right\")\n",
    "ax.set_xlim(0,20)\n",
    "ax.set_xticks(np.arange(0, 20, 2).astype(int))\n",
    "ax.set_ylabel('Yield')\n",
    "ax.set_xlabel('Reactions')\n",
    "ax.tick_params(direction='in')\n",
    "fig.savefig(\"figures/stbo_mtbo_kinetics_comparison.png\")"
   ]
  },
  {
   "cell_type": "markdown",
   "metadata": {},
   "source": [
    "With noise"
   ]
  },
  {
   "cell_type": "code",
   "execution_count": 12,
   "metadata": {},
   "outputs": [
    {
     "data": {
      "image/png": "[encoded data removed]",
      "text/plain": [
       "<Figure size 432x288 with 1 Axes>"
      ]
     },
     "metadata": {
      "needs_background": "light"
     },
     "output_type": "display_data"
    }
   ],
   "source": [
    "stbo_results = [summit.Runner.load(f\"data/stbo_kinetics_case1-2_noise_repeat_{i}.json\") for i in range(10)]\n",
    "mtbo_results = [summit.Runner.load(f\"data/mtbo_kinetics_case1-2_noise_repeat_{i}.json\") for i in range(10)]\n",
    "fig, ax = make_comparison_plot(stbo_results, mtbo_results)\n",
    "fig.savefig(\"figures/stbo_mtbo_kinetics_case1-2_noise_comparison.png\")"
   ]
  },
  {
   "cell_type": "markdown",
   "metadata": {},
   "source": [
    "* This probably works because the cases are quite similar, the second one just has an extra local optimum"
   ]
  },
  {
   "cell_type": "markdown",
   "metadata": {},
   "source": [
    "## Optimization Case 1-4"
   ]
  },
  {
   "cell_type": "code",
   "execution_count": 10,
   "metadata": {},
   "outputs": [],
   "source": [
    "N_REPEATS = 10\n",
    "MAX_ITERATIONS = 20"
   ]
  },
  {
   "cell_type": "markdown",
   "metadata": {},
   "source": [
    "### Single Task Optimization"
   ]
  },
  {
   "cell_type": "code",
   "execution_count": 11,
   "metadata": {},
   "outputs": [],
   "source": [
    "def run_stbo(max_iterations=10, categorical_method=\"one-hot\"):\n",
    "    exp = MIT_case2(noise_level=1)\n",
    "    exp.reset()\n",
    "    strategy = STBO(exp.domain, \n",
    "                    categorical_method=categorical_method)\n",
    "    r = summit.Runner(strategy=strategy, \n",
    "                      experiment=exp, \n",
    "                      max_iterations=max_iterations)\n",
    "    r.run()\n",
    "    return r"
   ]
  },
  {
   "cell_type": "code",
   "execution_count": null,
   "metadata": {},
   "outputs": [
    {
     "name": "stdout",
     "output_type": "stream",
     "text": [
      "Repeat 2\n"
     ]
    },
    {
     "data": {
      "text/html": [
       "\n",
       "    <div>\n",
       "        <style>\n",
       "            /* Turns off some styling */\n",
       "            progress {\n",
       "                /* gets rid of default border in Firefox and Opera. */\n",
       "                border: none;\n",
       "                /* Needs to be in here for Safari polyfill so background images work as expected. */\n",
       "                background-size: auto;\n",
       "            }\n",
       "            .progress-bar-interrupted, .progress-bar-interrupted::-webkit-progress-bar {\n",
       "                background: #F44336;\n",
       "            }\n",
       "        </style>\n",
       "      <progress value='14' class='' max='20' style='width:300px; height:20px; vertical-align: middle;'></progress>\n",
       "      70.00% [14/20 00:12<00:05]\n",
       "    </div>\n",
       "    "
      ],
      "text/plain": [
       "<IPython.core.display.HTML object>"
      ]
     },
     "metadata": {},
     "output_type": "display_data"
    }
   ],
   "source": [
    "for i in range(N_REPEATS):\n",
    "    print(f\"Repeat {i}\")\n",
    "    result = run_stbo(MAX_ITERATIONS)\n",
    "    result.save(f\"data/stbo_kinetics_case1-2_noise_repeat_{i}.json\")\n",
    "    clear_output(wait=True)"
   ]
  },
  {
   "cell_type": "markdown",
   "metadata": {},
   "source": [
    "### Multitask Optimization"
   ]
  },
  {
   "cell_type": "code",
   "execution_count": 27,
   "metadata": {},
   "outputs": [],
   "source": [
    "def run_mtbo(max_iterations=10):\n",
    "    exp = MIT_case2(noise_level=1)\n",
    "    strategy = MTBO(exp.domain, \n",
    "                    pretraining_data=pt_data,\n",
    "                    categorical_method=\"one-hot\", \n",
    "                    task=1)\n",
    "    r = summit.Runner(strategy=strategy,\n",
    "                      experiment=exp, \n",
    "                      max_iterations=max_iterations)\n",
    "    r.run()\n",
    "    return r"
   ]
  },
  {
   "cell_type": "code",
   "execution_count": 28,
   "metadata": {},
   "outputs": [
    {
     "name": "stdout",
     "output_type": "stream",
     "text": [
      "Repeat 9\n"
     ]
    },
    {
     "data": {
      "text/html": [
       "\n",
       "    <div>\n",
       "        <style>\n",
       "            /* Turns off some styling */\n",
       "            progress {\n",
       "                /* gets rid of default border in Firefox and Opera. */\n",
       "                border: none;\n",
       "                /* Needs to be in here for Safari polyfill so background images work as expected. */\n",
       "                background-size: auto;\n",
       "            }\n",
       "            .progress-bar-interrupted, .progress-bar-interrupted::-webkit-progress-bar {\n",
       "                background: #F44336;\n",
       "            }\n",
       "        </style>\n",
       "      <progress value='20' class='' max='20' style='width:300px; height:20px; vertical-align: middle;'></progress>\n",
       "      100.00% [20/20 00:42<00:00]\n",
       "    </div>\n",
       "    "
      ],
      "text/plain": [
       "<IPython.core.display.HTML object>"
      ]
     },
     "metadata": {},
     "output_type": "display_data"
    }
   ],
   "source": [
    "for i in range(N_REPEATS):\n",
    "    print(f\"Repeat {i}\")\n",
    "    result = run_mtbo(MAX_ITERATIONS)\n",
    "    result.save(f\"data/mtbo_kinetics_repeat_{i}.json\")\n",
    "    clear_output(wait=True)"
   ]
  },
  {
   "cell_type": "markdown",
   "metadata": {},
   "source": [
    "### Visualization"
   ]
  },
  {
   "cell_type": "code",
   "execution_count": 7,
   "metadata": {},
   "outputs": [
    {
     "data": {
      "image/png": "[encoded data removed]",
      "text/plain": [
       "<Figure size 432x288 with 1 Axes>"
      ]
     },
     "metadata": {
      "needs_background": "light"
     },
     "output_type": "display_data"
    }
   ],
   "source": [
    "stbo_results = [summit.Runner.load(f\"data/stbo_kinetics_repeat_{i}.json\") for i in range(10)]\n",
    "mtbo_results = [summit.Runner.load(f\"data/mtbo_kinetics_repeat_{i}.json\") for i in range(10)]\n",
    "def make_average_plot(results: List[summit.Runner], ax, label=None, color=None):\n",
    "    yields = [r.experiment.data['y'] for r in results]\n",
    "    yields = np.array(yields)\n",
    "    mean_yield = np.mean(yields, axis=0)\n",
    "    std_yield = np.std(yields, axis=0)\n",
    "    x = np.arange(0, len(mean_yield), 1).astype(int)\n",
    "    ax.plot(x, mean_yield, label=label)\n",
    "    ax.fill_between(x, mean_yield-std_yield, mean_yield+std_yield, alpha=0.1)\n",
    "#     ax.errorbar(x,mean_yield, std_yield, \n",
    "#                 label=label, marker='o', capsize=5, c=color, alpha=0)\n",
    "    \n",
    "fig, ax = plt.subplots(1)\n",
    "make_average_plot(stbo_results, ax, label=\"STBO\", color='r')\n",
    "make_average_plot(mtbo_results, ax, label=\"MTBO\", color='b')\n",
    "ax.legend(loc = \"lower right\")\n",
    "ax.set_xlim(0,20)\n",
    "ax.set_xticks(np.arange(0, 20, 2).astype(int))\n",
    "ax.set_ylabel('Yield')\n",
    "ax.set_xlabel('Reactions')\n",
    "ax.tick_params(direction='in')\n",
    "fig.savefig(\"figures/stbo_mtbo_kinetics_comparison.png\")"
   ]
  }
 ],
 "metadata": {
  "kernelspec": {
   "display_name": "Python 3.7.3 64-bit ('summit-TfmmV07p-py3.7': venv)",
   "language": "python",
   "name": "python37364bitsummittfmmv07ppy37venv6fc212842bc44e839a51e6623a646abd"
  },
  "language_info": {
   "codemirror_mode": {
    "name": "ipython",
    "version": 3
   },
   "file_extension": ".py",
   "mimetype": "text/x-python",
   "name": "python",
   "nbconvert_exporter": "python",
   "pygments_lexer": "ipython3",
   "version": "3.7.3"
  }
 },
 "nbformat": 4,
 "nbformat_minor": 4
}
