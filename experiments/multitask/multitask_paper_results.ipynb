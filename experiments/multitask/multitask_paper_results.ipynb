{
 "cells": [
  {
   "cell_type": "code",
   "execution_count": 1,
   "metadata": {},
   "outputs": [],
   "source": [
    "%load_ext autoreload\n",
    "%autoreload 2"
   ]
  },
  {
   "cell_type": "markdown",
   "metadata": {},
   "source": [
    "# Multi-Task BO NIPS Paper\n",
    "\n",
    "This is a paper for the [ML4Molecules workshop](https://ml4molecules.github.io/) at NIPS 2020."
   ]
  },
  {
   "cell_type": "code",
   "execution_count": 2,
   "metadata": {},
   "outputs": [],
   "source": [
    "from summit.strategies import STBO, MTBO, Transform, LHS, Chimera\n",
    "from summit.benchmarks import (\n",
    "    MIT_case1,\n",
    "    MIT_case2,MIT_case3,\n",
    "    MIT_case4,\n",
    "    MIT_case5,\n",
    "    BaumgartnerCrossCouplingEmulator,\n",
    "    ExperimentalEmulator\n",
    ")\n",
    "from summit.utils.dataset import DataSet\n",
    "from summit.domain import *\n",
    "import summit\n",
    "import pathlib\n",
    "import pandas as pd\n",
    "import numpy as np\n",
    "import matplotlib.pyplot as plt\n",
    "from typing import List\n",
    "from IPython.display import clear_output\n",
    "from copy import deepcopy"
   ]
  },
  {
   "cell_type": "code",
   "execution_count": 20,
   "metadata": {},
   "outputs": [],
   "source": [
    "def run_stbo(exp, max_iterations=10, categorical_method=\"one-hot\"):\n",
    "    exp.reset()\n",
    "    strategy = STBO(exp.domain, \n",
    "                    categorical_method=categorical_method)\n",
    "    r = summit.Runner(strategy=strategy, \n",
    "                      experiment=exp, \n",
    "                      max_iterations=max_iterations)\n",
    "    r.run()\n",
    "    return r\n",
    "\n",
    "def run_mtbo(exp, pt_data, max_iterations=10):\n",
    "    strategy = MTBO(exp.domain, \n",
    "                    pretraining_data=pt_data,\n",
    "                    categorical_method=\"one-hot\", \n",
    "                    task=1)\n",
    "    r = summit.Runner(strategy=strategy,\n",
    "                      experiment=exp, \n",
    "                      max_iterations=max_iterations)\n",
    "    r.run()\n",
    "    return r\n",
    "\n",
    "def make_average_plot(results: List[summit.Runner], ax, label=None, color=None):\n",
    "    objective = results[0].experiment.domain.output_variables[0].name\n",
    "    yields = [r.experiment.data[objective] for r in results]\n",
    "    yields = np.array(yields)\n",
    "    mean_yield = np.mean(yields, axis=0)\n",
    "    std_yield = np.std(yields, axis=0)\n",
    "    x = np.arange(0, len(mean_yield), 1).astype(int)\n",
    "    ax.plot(x, mean_yield, label=label, linewidth=2)\n",
    "    ax.fill_between(x, mean_yield-std_yield, mean_yield+std_yield, alpha=0.1)\n",
    "\n",
    "def make_comparison_plot(*args):\n",
    "    fig, ax = plt.subplots(1)\n",
    "    for arg in args:\n",
    "        make_average_plot(arg['results'], ax, label=arg[\"label\"], color=arg.get(\"color\"))\n",
    "    fontdict = fontdict={\"size\":12}\n",
    "    ax.legend(loc = \"lower right\", prop=fontdict)\n",
    "    ax.set_xlim(0,20)\n",
    "    ax.set_xticks(np.arange(0, 20, 2).astype(int))\n",
    "    ax.set_ylabel('Yield', fontdict=fontdict)\n",
    "    ax.set_xlabel('Reactions', fontdict=fontdict)\n",
    "    ax.tick_params(direction='in')\n",
    "    return fig, ax"
   ]
  },
  {
   "cell_type": "code",
   "execution_count": 4,
   "metadata": {},
   "outputs": [],
   "source": [
    "N_REPEATS = 10\n",
    "MAX_ITERATIONS = 20"
   ]
  },
  {
   "cell_type": "markdown",
   "metadata": {},
   "source": [
    "## Kinetic Models"
   ]
  },
  {
   "cell_type": "markdown",
   "metadata": {},
   "source": [
    "![](figures/baumgartner_mechanisms.png)"
   ]
  },
  {
   "cell_type": "markdown",
   "metadata": {},
   "source": [
    "We will use MIT case 1 as the auxiliary task for pretraining."
   ]
  },
  {
   "cell_type": "code",
   "execution_count": 6,
   "metadata": {},
   "outputs": [
    {
     "data": {
      "text/html": [
       "<table id='domain' width=100%><tr><td><b>Name</b></td><td><b>Type</b></td><td><b>Description</b></td><td><b>Values</b></td></tr><tr><td>conc_cat</td><td>continuous, input</td><td>catalyst concentration</td><td>[0.000835,0.004175]</td></tr><tr><td>t</td><td>continuous, input</td><td>reaction time</td><td>[60,600]</td></tr><tr><td>cat_index</td><td>categorical, input</td><td>Choice of catalyst</td><td>8 levels</td></tr><tr><td>temperature</td><td>continuous, input</td><td>Reactor temperature in degress celsius</td><td>[30,110]</td></tr><tr><td>y</td><td>continuous, maximize objective</td><td>yield (%)</td><td>[0,100]</td></tr></table>"
      ],
      "text/plain": [
       "<summit.domain.Domain at 0x1530d0ba8>"
      ]
     },
     "execution_count": 6,
     "metadata": {},
     "output_type": "execute_result"
    }
   ],
   "source": [
    "exp_pt = MIT_case1(noise_level=1)\n",
    "exp_pt.domain"
   ]
  },
  {
   "cell_type": "markdown",
   "metadata": {},
   "source": [
    "We first generate different amounts of data using latin hypercube sampling."
   ]
  },
  {
   "cell_type": "markdown",
   "metadata": {},
   "source": [
    "Now, we can run single-task and multi-task Bayesian optimization."
   ]
  },
  {
   "cell_type": "code",
   "execution_count": 8,
   "metadata": {},
   "outputs": [],
   "source": [
    "def generate_mit_case_1_data(n_points):\n",
    "    exp_pt = MIT_case1(noise_level=1)\n",
    "    rs = np.random.RandomState(100)\n",
    "    lhs = LHS(exp_pt.domain, random_state=rs)\n",
    "    conditions = lhs.suggest_experiments(n_points)\n",
    "    exp_pt.run_experiments(conditions)\n",
    "    pt_data = exp_pt.data\n",
    "    pt_data['task', 'METADATA'] = 0\n",
    "    return pt_data\n",
    "\n",
    "n_aux = [5, 10, 50]\n",
    "aux_datasets = [generate_mit_case_1_data(n) for n in n_aux]"
   ]
  },
  {
   "cell_type": "markdown",
   "metadata": {},
   "source": [
    "### Same Mechanism"
   ]
  },
  {
   "cell_type": "code",
   "execution_count": null,
   "metadata": {},
   "outputs": [],
   "source": [
    "#Single-Task Bayesian Optimization\n",
    "for i in range(N_REPEATS):\n",
    "    print(f\"Repeat {i}\")\n",
    "    exp = MIT_case2(noise_level=1)\n",
    "    result = run_stbo(exp, max_iterations=MAX_ITERATIONS)\n",
    "    result.save(f\"data/kinetics_similar/stbo_case1-2_noise_repeat_{i}.json\")\n",
    "    clear_output(wait=True)"
   ]
  },
  {
   "cell_type": "code",
   "execution_count": 23,
   "metadata": {},
   "outputs": [
    {
     "name": "stdout",
     "output_type": "stream",
     "text": [
      "Repeat 9\n"
     ]
    },
    {
     "data": {
      "text/html": [
       "\n",
       "    <div>\n",
       "        <style>\n",
       "            /* Turns off some styling */\n",
       "            progress {\n",
       "                /* gets rid of default border in Firefox and Opera. */\n",
       "                border: none;\n",
       "                /* Needs to be in here for Safari polyfill so background images work as expected. */\n",
       "                background-size: auto;\n",
       "            }\n",
       "            .progress-bar-interrupted, .progress-bar-interrupted::-webkit-progress-bar {\n",
       "                background: #F44336;\n",
       "            }\n",
       "        </style>\n",
       "      <progress value='20' class='' max='20' style='width:300px; height:20px; vertical-align: middle;'></progress>\n",
       "      100.00% [20/20 00:57<00:00]\n",
       "    </div>\n",
       "    "
      ],
      "text/plain": [
       "<IPython.core.display.HTML object>"
      ]
     },
     "metadata": {},
     "output_type": "display_data"
    }
   ],
   "source": [
    "#Multi-Task Bayesian Optimization\n",
    "for n, dataset in zip(n_aux, aux_datasets):\n",
    "    for i in range(N_REPEATS):\n",
    "        print(f\"Repeat {i}\")\n",
    "        exp = MIT_case2(noise_level=1)\n",
    "        result = run_mtbo(exp, dataset, max_iterations=MAX_ITERATIONS)\n",
    "        result.save(f\"data/kinetics_similar/mtbo_case1-2_noise_{n}-pre-train_repeat_{i}.json\")\n",
    "        clear_output(wait=True)"
   ]
  },
  {
   "cell_type": "markdown",
   "metadata": {},
   "source": [
    "Finally, we can make a plot for the paper."
   ]
  },
  {
   "cell_type": "code",
   "execution_count": 40,
   "metadata": {},
   "outputs": [
    {
     "data": {
      "image/png": "[encoded data removed]",
      "text/plain": [
       "<Figure size 432x288 with 1 Axes>"
      ]
     },
     "metadata": {
      "needs_background": "light"
     },
     "output_type": "display_data"
    }
   ],
   "source": [
    "stbo_results = [summit.Runner.load(f\"data/kinetics_similar/stbo_case1-2_noise_repeat_{i}.json\") for i in range(10)]\n",
    "mtbo_results_lists = [[summit.Runner.load(f\"data/kinetics_similar/mtbo_case1-2_noise_{n}-pre-train_repeat_{i}.json\") \n",
    "                      for i in range(10)]\n",
    "                      for n in n_aux]\n",
    "fig, ax = make_comparison_plot(\n",
    "    dict(results=stbo_results, label=\"STBO\"),\n",
    "#     dict(results=mtbo_results_lists[0],label=\"MTBO, n=5\"),\n",
    "    dict(results=mtbo_results_lists[1],label=\"MTBO, n=10\"),\n",
    "    dict(results=mtbo_results_lists[2],label=\"MTBO, n=50\")\n",
    ")\n",
    "fig.savefig(\"figures/stbo_mtbo_kinetics_case1-2_noise_comparison.png\", bbox_inches='tight', dpi=300)"
   ]
  },
  {
   "cell_type": "markdown",
   "metadata": {},
   "source": [
    "### Different Mechanisms"
   ]
  },
  {
   "cell_type": "markdown",
   "metadata": {},
   "source": [
    "This adds an extra wrinkle because there is a competing reaction which consumes B (see Case 3 from figure above)."
   ]
  },
  {
   "cell_type": "code",
   "execution_count": 32,
   "metadata": {},
   "outputs": [
    {
     "name": "stdout",
     "output_type": "stream",
     "text": [
      "Repeat 9\n"
     ]
    },
    {
     "data": {
      "text/html": [
       "\n",
       "    <div>\n",
       "        <style>\n",
       "            /* Turns off some styling */\n",
       "            progress {\n",
       "                /* gets rid of default border in Firefox and Opera. */\n",
       "                border: none;\n",
       "                /* Needs to be in here for Safari polyfill so background images work as expected. */\n",
       "                background-size: auto;\n",
       "            }\n",
       "            .progress-bar-interrupted, .progress-bar-interrupted::-webkit-progress-bar {\n",
       "                background: #F44336;\n",
       "            }\n",
       "        </style>\n",
       "      <progress value='20' class='' max='20' style='width:300px; height:20px; vertical-align: middle;'></progress>\n",
       "      100.00% [20/20 00:22<00:00]\n",
       "    </div>\n",
       "    "
      ],
      "text/plain": [
       "<IPython.core.display.HTML object>"
      ]
     },
     "metadata": {},
     "output_type": "display_data"
    }
   ],
   "source": [
    "#Single-Task Bayesian Optimization\n",
    "for i in range(N_REPEATS):\n",
    "    print(f\"Repeat {i}\")\n",
    "    exp = MIT_case3(noise_level=1)\n",
    "    result = run_stbo(exp, max_iterations=MAX_ITERATIONS)\n",
    "    result.save(f\"data/kinetics_different/stbo_case1-3_noise_repeat_{i}.json\")\n",
    "    clear_output(wait=True)"
   ]
  },
  {
   "cell_type": "code",
   "execution_count": 13,
   "metadata": {},
   "outputs": [
    {
     "name": "stdout",
     "output_type": "stream",
     "text": [
      "Repeat 9\n"
     ]
    },
    {
     "data": {
      "text/html": [
       "\n",
       "    <div>\n",
       "        <style>\n",
       "            /* Turns off some styling */\n",
       "            progress {\n",
       "                /* gets rid of default border in Firefox and Opera. */\n",
       "                border: none;\n",
       "                /* Needs to be in here for Safari polyfill so background images work as expected. */\n",
       "                background-size: auto;\n",
       "            }\n",
       "            .progress-bar-interrupted, .progress-bar-interrupted::-webkit-progress-bar {\n",
       "                background: #F44336;\n",
       "            }\n",
       "        </style>\n",
       "      <progress value='20' class='' max='20' style='width:300px; height:20px; vertical-align: middle;'></progress>\n",
       "      100.00% [20/20 01:19<00:00]\n",
       "    </div>\n",
       "    "
      ],
      "text/plain": [
       "<IPython.core.display.HTML object>"
      ]
     },
     "metadata": {},
     "output_type": "display_data"
    }
   ],
   "source": [
    "#Multi-Task Bayesian Optimization\n",
    "j = 2\n",
    "pt_data = aux_datasets[j]\n",
    "n=n_aux[j]\n",
    "for i in range(N_REPEATS):\n",
    "    print(f\"Repeat {i}\")\n",
    "    exp = MIT_case3(noise_level=1)\n",
    "    result = run_mtbo(exp, pt_data, max_iterations=MAX_ITERATIONS)\n",
    "    result.save(f\"data/kinetics_different/mtbo_case1-3_noise_{n}-pre-train_repeat_{i}.json\")\n",
    "    clear_output(wait=True)"
   ]
  },
  {
   "cell_type": "code",
   "execution_count": 47,
   "metadata": {},
   "outputs": [
    {
     "data": {
      "image/png": "[encoded data removed]",
      "text/plain": [
       "<Figure size 432x288 with 1 Axes>"
      ]
     },
     "metadata": {
      "needs_background": "light"
     },
     "output_type": "display_data"
    }
   ],
   "source": [
    "stbo_results = [summit.Runner.load(f\"data/kinetics_different/stbo_case1-3_noise_repeat_{i}.json\") \n",
    "                for i in range(10)]\n",
    "mtbo_results_lists = [[summit.Runner.load(f\"data/kinetics_similar/mtbo_case1-2_noise_{n}-pre-train_repeat_{i}.json\") \n",
    "                      for i in range(10)]\n",
    "                      for n in [10,50]]\n",
    "fig, ax = make_comparison_plot(\n",
    "    dict(results=stbo_results, label=\"STBO\"),\n",
    "    dict(results=mtbo_results_lists[0],label=\"MTBO, n=10\"),\n",
    "    dict(results=mtbo_results_lists[1],label=\"MTBO, n=50\")\n",
    ")\n",
    "fig.savefig(\"figures/stbo_mtbo_kinetics_case1-3_noise_comparison.png\", bbox_inches='tight', dpi=300)"
   ]
  },
  {
   "cell_type": "markdown",
   "metadata": {},
   "source": [
    "## C-N Cross Couplings"
   ]
  },
  {
   "cell_type": "markdown",
   "metadata": {},
   "source": [
    "First we need to get the data from the Baumgartner paper and do some manipulation to get it in the form we want"
   ]
  },
  {
   "cell_type": "code",
   "execution_count": 5,
   "metadata": {},
   "outputs": [],
   "source": [
    "b_df = pd.read_excel(\"data/baumgartner_data.xlsx\", sheet_name=\"Reaction data\")\n",
    "# Just the columns we want\n",
    "b_df = b_df[[\n",
    "    \"Optimization\", \n",
    "    \"Base\",\n",
    "    \"Base equivalents\",\n",
    "    \"Temperature (degC)\",\n",
    "    \"Residence Time Actual (s)\",\n",
    "    \"Reaction Yield\"\n",
    "]]\n",
    "# Rename columns\n",
    "columns =  {\"Optimization\": \"catalyst\", \n",
    "    \"Base\": \"base\",\n",
    "    \"Base equivalents\": \"base_equivalents\",\n",
    "    \"Temperature (degC)\": \"temperature\",\n",
    "    \"Residence Time Actual (s)\": \"t_res\",\n",
    "    \"Reaction Yield\": \"yld\"\n",
    "}\n",
    "b_df = b_df.rename(columns=columns)\n",
    "\n",
    "# Drop preliminary reactions\n",
    "b_df = b_df.iloc[:363,:] \n",
    "#Split catalyst column into nucleophile and catlyst\n",
    "new = b_df[\"catalyst\"].str.split(\" - \", n=1, expand=True)\n",
    "# Create new columns\n",
    "b_df[\"nucleophile\"] = new[0]\n",
    "b_df[\"catalyst\"] = new[1]\n",
    "# Create a dtaset for each nucleophile\n",
    "nucleophiles = pd.unique(b_df[\"nucleophile\"])\n",
    "dfs = {nucleophile: b_df[b_df[\"nucleophile\"]==nucleophile]\n",
    "       for nucleophile in nucleophiles}\n",
    "datasets = {nucleophile: DataSet.from_df(dfs[nucleophile], metadata_columns=\"nucleophile\")\n",
    "            for nucleophile in nucleophiles}"
   ]
  },
  {
   "cell_type": "markdown",
   "metadata": {},
   "source": [
    "### Differing Substrates"
   ]
  },
  {
   "cell_type": "markdown",
   "metadata": {},
   "source": [
    "Optimize aniline case with auxiliary data from benzamide case."
   ]
  },
  {
   "cell_type": "code",
   "execution_count": 6,
   "metadata": {},
   "outputs": [
    {
     "name": "stdout",
     "output_type": "stream",
     "text": [
      "Repeat 9\n"
     ]
    },
    {
     "data": {
      "text/html": [
       "\n",
       "    <div>\n",
       "        <style>\n",
       "            /* Turns off some styling */\n",
       "            progress {\n",
       "                /* gets rid of default border in Firefox and Opera. */\n",
       "                border: none;\n",
       "                /* Needs to be in here for Safari polyfill so background images work as expected. */\n",
       "                background-size: auto;\n",
       "            }\n",
       "            .progress-bar-interrupted, .progress-bar-interrupted::-webkit-progress-bar {\n",
       "                background: #F44336;\n",
       "            }\n",
       "        </style>\n",
       "      <progress value='20' class='' max='20' style='width:300px; height:20px; vertical-align: middle;'></progress>\n",
       "      100.00% [20/20 00:15<00:00]\n",
       "    </div>\n",
       "    "
      ],
      "text/plain": [
       "<IPython.core.display.HTML object>"
      ]
     },
     "metadata": {},
     "output_type": "display_data"
    }
   ],
   "source": [
    "#Single-Task Bayesian Optimization\n",
    "for i in range(N_REPEATS):\n",
    "    print(f\"Repeat {i}\")\n",
    "    exp = BaumgartnerCrossCouplingEmulator()\n",
    "    result = run_stbo(exp, max_iterations=MAX_ITERATIONS)\n",
    "    result.save(f\"data/cross_coupling/stbo_cn_noise_repeat_{i}.json\")\n",
    "    clear_output(wait=True)"
   ]
  },
  {
   "cell_type": "code",
   "execution_count": 10,
   "metadata": {},
   "outputs": [
    {
     "name": "stdout",
     "output_type": "stream",
     "text": [
      "Repeat 9\n"
     ]
    },
    {
     "data": {
      "text/html": [
       "\n",
       "    <div>\n",
       "        <style>\n",
       "            /* Turns off some styling */\n",
       "            progress {\n",
       "                /* gets rid of default border in Firefox and Opera. */\n",
       "                border: none;\n",
       "                /* Needs to be in here for Safari polyfill so background images work as expected. */\n",
       "                background-size: auto;\n",
       "            }\n",
       "            .progress-bar-interrupted, .progress-bar-interrupted::-webkit-progress-bar {\n",
       "                background: #F44336;\n",
       "            }\n",
       "        </style>\n",
       "      <progress value='20' class='' max='20' style='width:300px; height:20px; vertical-align: middle;'></progress>\n",
       "      100.00% [20/20 00:50<00:00]\n",
       "    </div>\n",
       "    "
      ],
      "text/plain": [
       "<IPython.core.display.HTML object>"
      ]
     },
     "metadata": {},
     "output_type": "display_data"
    }
   ],
   "source": [
    "#Multi-Task Bayesian Optimization\n",
    "pt_data = datasets[\"Benzamide\"]\n",
    "pt_data[\"task\", \"METADATA\"] = 0\n",
    "# Drop base=MTBD because not in other dataset\n",
    "pt_data = pt_data[pt_data[\"base\"] != \"MTBD\"]\n",
    "# Clean data\n",
    "pt_data = pt_data.replace(\"≥90%\", 0.9)\n",
    "for i in range(N_REPEATS):\n",
    "    print(f\"Repeat {i}\")\n",
    "    exp = BaumgartnerCrossCouplingEmulator()\n",
    "    result = run_mtbo(exp, pt_data, max_iterations=MAX_ITERATIONS)\n",
    "    result.save(f\"data/cross_coupling/mtbo_cn_repeat_{i}.json\")\n",
    "    clear_output(wait=True)"
   ]
  },
  {
   "cell_type": "code",
   "execution_count": 21,
   "metadata": {},
   "outputs": [
    {
     "data": {
      "image/png": "[encoded data removed]",
      "text/plain": [
       "<Figure size 432x288 with 1 Axes>"
      ]
     },
     "metadata": {
      "needs_background": "light"
     },
     "output_type": "display_data"
    }
   ],
   "source": [
    "stbo_results = [summit.Runner.load(f\"data/cross_coupling_different/stbo_cn_noise_repeat_{i}.json\") \n",
    "                for i in range(10)]\n",
    "mtbo_results = [summit.Runner.load(f\"data/cross_coupling_different/mtbo_cn_repeat_{i}.json\") \n",
    "                for i in range(10)]\n",
    "fig, ax = make_comparison_plot(\n",
    "    dict(results=stbo_results, label=\"STBO\"),\n",
    "    dict(results=mtbo_results,label=\"MTBO, n=43\"),\n",
    ")\n",
    "fig.savefig(\"figures/stbo_mtbo_cn_different.png\", bbox_inches='tight', dpi=300)"
   ]
  },
  {
   "cell_type": "markdown",
   "metadata": {},
   "source": [
    "### Similar Substrates"
   ]
  },
  {
   "cell_type": "markdown",
   "metadata": {},
   "source": [
    "What if our auxiliary data is similar to the task being optimized? In this case primary amine to secondary amine.\n",
    "\n",
    "Since we don't have a benchmark for this, we first need to train a model."
   ]
  },
  {
   "cell_type": "code",
   "execution_count": 6,
   "metadata": {},
   "outputs": [
    {
     "data": {
      "text/html": [
       "<table id='domain' width=100%><tr><td><b>Name</b></td><td><b>Type</b></td><td><b>Description</b></td><td><b>Values</b></td></tr><tr><td>catalyst</td><td>categorical, input</td><td>Catalyst type</td><td>3 levels</td></tr><tr><td>base</td><td>categorical, input</td><td>Base</td><td>4 levels</td></tr><tr><td>base_equivalents</td><td>continuous, input</td><td>Base equivalents</td><td>[1.0,2.5]</td></tr><tr><td>temperature</td><td>continuous, input</td><td>Temperature in degrees Celsius (ºC)</td><td>[30,100]</td></tr><tr><td>t_res</td><td>continuous, input</td><td>residence time in seconds (s)</td><td>[60,1800]</td></tr><tr><td>yld</td><td>continuous, maximize objective</td><td>Yield</td><td>[0.0,1.0]</td></tr></table>"
      ],
      "text/plain": [
       "<summit.domain.Domain at 0x14f8201d0>"
      ]
     },
     "execution_count": 6,
     "metadata": {},
     "output_type": "execute_result"
    }
   ],
   "source": [
    "#Create the domain based on Baumgartner, but with different bases\n",
    "bases_primary = pd.unique(datasets[\"Phenethylamine\"][\"base\"])\n",
    "bases_secondary = pd.unique(datasets[\"Morpholine\"][\"base\"])\n",
    "assert bases_primary.all() == bases_secondary.all()\n",
    "exp = BaumgartnerCrossCouplingEmulator()\n",
    "new_domain = deepcopy(exp.domain)\n",
    "bases = list(pd.unique(datasets[\"Morpholine\"][\"base\"]))\n",
    "new_domain[\"base\"] = CategoricalVariable(name=\"base\", description=\"Base\", levels=bases)\n",
    "new_domain"
   ]
  },
  {
   "cell_type": "code",
   "execution_count": 14,
   "metadata": {},
   "outputs": [
    {
     "name": "stdout",
     "output_type": "stream",
     "text": [
      "Warning: The file /Users/Kobi/Documents/Research/summit/summit/benchmarks/experiment_emulator/trained_models/BNN/baumgartner_primary_amine_yld_1_BNN_model.pt already exist.\n"
     ]
    },
    {
     "name": "stdin",
     "output_type": "stream",
     "text": [
      "Do you want to overwrite this file? If yes, type 'y' or 'yes', else type 'n' or 'no':  y\n"
     ]
    },
    {
     "name": "stdout",
     "output_type": "stream",
     "text": [
      "Warning: The file /Users/Kobi/Documents/Research/summit/summit/benchmarks/experiment_emulator/trained_models/BNN/baumgartner_primary_amine_yld_2_BNN_model.pt already exist.\n"
     ]
    },
    {
     "name": "stdin",
     "output_type": "stream",
     "text": [
      "Do you want to overwrite this file? If yes, type 'y' or 'yes', else type 'n' or 'no':  y\n"
     ]
    },
    {
     "name": "stdout",
     "output_type": "stream",
     "text": [
      "Evaluation based on training and test set.\n"
     ]
    },
    {
     "data": {
      "text/plain": [
       "({'yld': {'Train': {'MAE': 0.38840436935424805,\n",
       "    'RMSE': 0.40859803557395935,\n",
       "    'r2': -0.018294166047013727},\n",
       "   'Test': {'MAE': 0.37007373571395874,\n",
       "    'RMSE': 0.3907167613506317,\n",
       "    'r2': -0.04729970682817819}}},\n",
       " [(<Figure size 432x288 with 1 Axes>,\n",
       "   <AxesSubplot:xlabel='Experimental y', ylabel='Predicted y'>)])"
      ]
     },
     "execution_count": 14,
     "metadata": {},
     "output_type": "execute_result"
    },
    {
     "data": {
      "image/png": "[encoded data removed]",
      "text/plain": [
       "<Figure size 432x288 with 1 Axes>"
      ]
     },
     "metadata": {
      "needs_background": "light"
     },
     "output_type": "display_data"
    }
   ],
   "source": [
    "# Train primary amine benchmark model\n",
    "exp_amine = ExperimentalEmulator(domain=new_domain, model_name=\"baumgartner_primary_amine\")\n",
    "training_ds = datasets[\"Phenethylamine\"]\n",
    "training_ds = training_ds.replace(\"≥90%\", 0.9)\n",
    "exp_amine.train(dataset=datasets[\"Phenethylamine\"], cv_fold=2, test_size=0.25, verbose=False)\n",
    "exp_amine.validate(parity_plots=True)"
   ]
  },
  {
   "cell_type": "code",
   "execution_count": 13,
   "metadata": {},
   "outputs": [
    {
     "data": {
      "text/html": [
       "<div>\n",
       "<style scoped>\n",
       "    .dataframe tbody tr th:only-of-type {\n",
       "        vertical-align: middle;\n",
       "    }\n",
       "\n",
       "    .dataframe tbody tr th {\n",
       "        vertical-align: top;\n",
       "    }\n",
       "\n",
       "    .dataframe thead th {\n",
       "        text-align: right;\n",
       "    }\n",
       "</style>\n",
       "<table border=\"1\" class=\"dataframe\">\n",
       "  <thead>\n",
       "    <tr style=\"text-align: right;\">\n",
       "      <th></th>\n",
       "      <th>catalyst</th>\n",
       "      <th>base</th>\n",
       "      <th>base_equivalents</th>\n",
       "      <th>temperature</th>\n",
       "      <th>t_res</th>\n",
       "      <th>yld</th>\n",
       "      <th>computation_t</th>\n",
       "      <th>experiment_t</th>\n",
       "      <th>strategy</th>\n",
       "    </tr>\n",
       "  </thead>\n",
       "  <tbody>\n",
       "    <tr>\n",
       "      <th>0</th>\n",
       "      <td>tBuXPhos</td>\n",
       "      <td>BTTP</td>\n",
       "      <td>2.125</td>\n",
       "      <td>82.5</td>\n",
       "      <td>1365.0</td>\n",
       "      <td>0.463060</td>\n",
       "      <td>0.0</td>\n",
       "      <td>0.030719</td>\n",
       "      <td>LHS</td>\n",
       "    </tr>\n",
       "    <tr>\n",
       "      <th>1</th>\n",
       "      <td>AlPhos</td>\n",
       "      <td>MTBD</td>\n",
       "      <td>1.375</td>\n",
       "      <td>47.5</td>\n",
       "      <td>495.0</td>\n",
       "      <td>0.462861</td>\n",
       "      <td>0.0</td>\n",
       "      <td>0.034983</td>\n",
       "      <td>LHS</td>\n",
       "    </tr>\n",
       "  </tbody>\n",
       "</table>\n",
       "</div>"
      ],
      "text/plain": [
       "NAME  catalyst  base base_equivalents temperature   t_res       yld  \\\n",
       "TYPE      DATA  DATA             DATA        DATA    DATA      DATA   \n",
       "0     tBuXPhos  BTTP            2.125        82.5  1365.0  0.463060   \n",
       "1       AlPhos  MTBD            1.375        47.5   495.0  0.462861   \n",
       "\n",
       "NAME computation_t experiment_t strategy  \n",
       "TYPE      METADATA     METADATA METADATA  \n",
       "0              0.0     0.030719      LHS  \n",
       "1              0.0     0.034983      LHS  "
      ]
     },
     "execution_count": 13,
     "metadata": {},
     "output_type": "execute_result"
    }
   ],
   "source": [
    "exp_amine.reset()\n",
    "lhs = LHS(exp_amine.domain)\n",
    "conditions = lhs.suggest_experiments(2)\n",
    "exp_amine.run_experiments(conditions)"
   ]
  },
  {
   "cell_type": "code",
   "execution_count": 6,
   "metadata": {},
   "outputs": [
    {
     "name": "stdout",
     "output_type": "stream",
     "text": [
      "Repeat 9\n"
     ]
    },
    {
     "data": {
      "text/html": [
       "\n",
       "    <div>\n",
       "        <style>\n",
       "            /* Turns off some styling */\n",
       "            progress {\n",
       "                /* gets rid of default border in Firefox and Opera. */\n",
       "                border: none;\n",
       "                /* Needs to be in here for Safari polyfill so background images work as expected. */\n",
       "                background-size: auto;\n",
       "            }\n",
       "            .progress-bar-interrupted, .progress-bar-interrupted::-webkit-progress-bar {\n",
       "                background: #F44336;\n",
       "            }\n",
       "        </style>\n",
       "      <progress value='20' class='' max='20' style='width:300px; height:20px; vertical-align: middle;'></progress>\n",
       "      100.00% [20/20 00:15<00:00]\n",
       "    </div>\n",
       "    "
      ],
      "text/plain": [
       "<IPython.core.display.HTML object>"
      ]
     },
     "metadata": {},
     "output_type": "display_data"
    }
   ],
   "source": [
    "#Single-Task Bayesian Optimization\n",
    "for i in range(N_REPEATS):\n",
    "    print(f\"Repeat {i}\")\n",
    "    result = run_stbo(exp_amine, max_iterations=MAX_ITERATIONS)\n",
    "    result.save(f\"data/cross_coupling_similar/stbo_cn_noise_repeat_{i}.json\")\n",
    "    clear_output(wait=True)"
   ]
  },
  {
   "cell_type": "code",
   "execution_count": 13,
   "metadata": {},
   "outputs": [
    {
     "name": "stdout",
     "output_type": "stream",
     "text": [
      "Repeat 9\n"
     ]
    },
    {
     "data": {
      "text/html": [
       "\n",
       "    <div>\n",
       "        <style>\n",
       "            /* Turns off some styling */\n",
       "            progress {\n",
       "                /* gets rid of default border in Firefox and Opera. */\n",
       "                border: none;\n",
       "                /* Needs to be in here for Safari polyfill so background images work as expected. */\n",
       "                background-size: auto;\n",
       "            }\n",
       "            .progress-bar-interrupted, .progress-bar-interrupted::-webkit-progress-bar {\n",
       "                background: #F44336;\n",
       "            }\n",
       "        </style>\n",
       "      <progress value='20' class='' max='20' style='width:300px; height:20px; vertical-align: middle;'></progress>\n",
       "      100.00% [20/20 01:19<00:00]\n",
       "    </div>\n",
       "    "
      ],
      "text/plain": [
       "<IPython.core.display.HTML object>"
      ]
     },
     "metadata": {},
     "output_type": "display_data"
    }
   ],
   "source": [
    "#Multi-Task Bayesian Optimization\n",
    "for i in range(N_REPEATS):\n",
    "    print(f\"Repeat {i}\")\n",
    "    exp = MIT_case3(noise_level=1)\n",
    "    result = run_mtbo(exp_amine, pt_data, max_iterations=MAX_ITERATIONS)\n",
    "    result.save(f\"data/cross_coupling_similar/mtbo_case1-3_noise_{n}-pre-train_repeat_{i}.json\")\n",
    "    clear_output(wait=True)"
   ]
  },
  {
   "cell_type": "code",
   "execution_count": 45,
   "metadata": {},
   "outputs": [
    {
     "data": {
      "text/html": [
       "<table id='domain' width=100%><tr><td><b>Name</b></td><td><b>Type</b></td><td><b>Description</b></td><td><b>Values</b></td></tr><tr><td>catalyst</td><td>categorical, input</td><td>Catalyst type</td><td>3 levels</td></tr><tr><td>base</td><td>categorical, input</td><td>Base</td><td>4 levels</td></tr><tr><td>base_equivalents</td><td>continuous, input</td><td>Base equivalents</td><td>[1.0,2.5]</td></tr><tr><td>temperature</td><td>continuous, input</td><td>Temperature in degrees Celsius (ºC)</td><td>[30,100]</td></tr><tr><td>t_res</td><td>continuous, input</td><td>residence time in seconds (s)</td><td>[60,1800]</td></tr><tr><td>yld</td><td>continuous, maximize objective</td><td>Yield</td><td>[0.0,1.0]</td></tr></table>"
      ],
      "text/plain": [
       "<summit.domain.Domain at 0x154de3630>"
      ]
     },
     "execution_count": 45,
     "metadata": {},
     "output_type": "execute_result"
    }
   ],
   "source": []
  },
  {
   "cell_type": "code",
   "execution_count": null,
   "metadata": {},
   "outputs": [],
   "source": []
  }
 ],
 "metadata": {
  "kernelspec": {
   "display_name": "Python 3.7.3 64-bit ('summit-TfmmV07p-py3.7': venv)",
   "language": "python",
   "name": "python37364bitsummittfmmv07ppy37venv6fc212842bc44e839a51e6623a646abd"
  },
  "language_info": {
   "codemirror_mode": {
    "name": "ipython",
    "version": 3
   },
   "file_extension": ".py",
   "mimetype": "text/x-python",
   "name": "python",
   "nbconvert_exporter": "python",
   "pygments_lexer": "ipython3",
   "version": "3.7.3"
  },
  "toc-autonumbering": true
 },
 "nbformat": 4,
 "nbformat_minor": 4
}
